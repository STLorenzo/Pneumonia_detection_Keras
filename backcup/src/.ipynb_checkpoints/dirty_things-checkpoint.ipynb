{
 "cells": [
  {
   "cell_type": "code",
   "execution_count": 11,
   "metadata": {},
   "outputs": [
    {
     "name": "stderr",
     "output_type": "stream",
     "text": [
      "Using TensorFlow backend.\n"
     ]
    }
   ],
   "source": [
    "import pandas as pd # Data import, manipulation and processing \n",
    "import numpy as np # Vector and Matrix library\n",
    "import matplotlib.pyplot as plt # Graph making\n",
    "import os # System functions\n",
    "import glob # Unix style pathname pattern expansion\n",
    "from pathlib import Path # Path manipulation\n",
    "from skimage.io import imread # Scikit image library: Reads an image\n",
    "from skimage.transform import resize # Scikit image library: Resizes an image\n",
    "from keras.preprocessing.image import ImageDataGenerator, array_to_img, img_to_array, load_img # keras image manipulation\n",
    "\n",
    "# Shows matplotlib graphs in the notebook\n",
    "%matplotlib inline "
   ]
  },
  {
   "cell_type": "markdown",
   "metadata": {},
   "source": [
    "## Crear un generador de imagenes para aumentar al base de datos a base de rotaciones, desplazamientos, zooms y normalizaciones"
   ]
  },
  {
   "cell_type": "markdown",
   "metadata": {},
   "source": [
    "En esta solo se utiliza un cambio en la imagen (rotation_range = 90)"
   ]
  },
  {
   "cell_type": "code",
   "execution_count": 5,
   "metadata": {},
   "outputs": [],
   "source": [
    "# example_img_path = train_data['image'][0]\n",
    "\n",
    "# example_img = load_img(example_img_path)\n",
    "# im_array = img_to_array(example_img)\n",
    "# im_array = im_array.reshape((1,) + im_array.shape)\n",
    "# im_array\n",
    "\n",
    "# save_transformed_folder = Path(\"../data/chest_xray/transformed\")\n",
    "\n",
    "# imgGen = ImageDataGenerator(rotation_range = 90)\n",
    "# i = 1\n",
    "# for batch in imgGen.flow(im_array, batch_size=1, save_to_dir=save_transformed_folder, save_format='jpeg', save_prefix='trsf'):\n",
    "#     i += 1\n",
    "#     if i > 3:\n",
    "#         break"
   ]
  },
  {
   "cell_type": "markdown",
   "metadata": {},
   "source": [
    "Aqui se utilizan un popurri de cambios en la imagen"
   ]
  },
  {
   "cell_type": "code",
   "execution_count": 6,
   "metadata": {},
   "outputs": [],
   "source": [
    "# imgGen = ImageDataGenerator(\n",
    "#     rotation_range = 40, # rotates the image 40 degrees\n",
    "#     width_shift_range = 0.2, # shifts the image to the right\n",
    "#     height_shift_range = 0.2, # shifts the image up\n",
    "#     rescale = 1./255, # multiply all values by the constant. In this case normalizes the data\n",
    "#     shear_range = 0.2, # shear transformation\n",
    "#     zoom_range = 0.2, # zooms the image\n",
    "#     horizontal_flip = True) # flips the image by the horizontal axis\n",
    "\n",
    "# imgGen = ImageDataGenerator(rotation_range = 90)\n",
    "# i = 1\n",
    "# for batch in imgGen.flow(im_array, batch_size=1, save_to_dir=save_transformed_folder, save_format='jpeg', save_prefix='trsf'):\n",
    "#     i += 1\n",
    "#     if i > 3:\n",
    "#         break"
   ]
  },
  {
   "cell_type": "markdown",
   "metadata": {},
   "source": [
    "Muestra del metodo flow_from_directory"
   ]
  },
  {
   "cell_type": "code",
   "execution_count": 7,
   "metadata": {},
   "outputs": [],
   "source": [
    "#image data from directory\n",
    "# train_generator = train_datagen.flow_from_directory(\n",
    "#     train_folder,\n",
    "#     batch_size=32,\n",
    "#     class_mode='binary')\n",
    "\n",
    "# validation_generator = validation_datagen.flow_from_directory(\n",
    "#     test_folder,\n",
    "#     batch_size=32,\n",
    "#     class_mode='binary')"
   ]
  },
  {
   "cell_type": "markdown",
   "metadata": {},
   "source": [
    "## Para probar una misma seed y poder reproducir los datos"
   ]
  },
  {
   "cell_type": "code",
   "execution_count": 9,
   "metadata": {},
   "outputs": [],
   "source": [
    "# import tensorflow as tf\n",
    "\n",
    "# # Set the random seed\n",
    "# seed = 21\n",
    "\n",
    "# # Set the seed for hash based operations in python\n",
    "# os.environ['PYTHONHASHSEED'] = '0'\n",
    "\n",
    "# # Set the numpy seed\n",
    "# np.random.seed(seed)\n",
    "\n",
    "# # Set the random seed in tensorflow at graph level\n",
    "# tf.random.set_seed(seed)\n",
    "\n",
    "# # # Make the augmentation sequence deterministic\n",
    "# # aug.seed(seed)\n",
    "\n",
    "# # # Disable multi-threading in tensorflow ops\n",
    "# # session_conf = tf.ConfigProto(intra_op_parallelism_threads=1, inter_op_parallelism_threads=1)\n",
    "\n",
    "# # # Define a tensorflow session with above session configs\n",
    "# # sess = tf.Session(graph=tf.get_default_graph(), config=session_conf)\n",
    "\n",
    "# # # Set the session in keras\n",
    "# # K.set_session(sess)"
   ]
  },
  {
   "cell_type": "markdown",
   "metadata": {},
   "source": [
    "# Acceso y organizacion de los datos"
   ]
  },
  {
   "cell_type": "code",
   "execution_count": 67,
   "metadata": {},
   "outputs": [
    {
     "data": {
      "text/html": [
       "<div>\n",
       "<style scoped>\n",
       "    .dataframe tbody tr th:only-of-type {\n",
       "        vertical-align: middle;\n",
       "    }\n",
       "\n",
       "    .dataframe tbody tr th {\n",
       "        vertical-align: top;\n",
       "    }\n",
       "\n",
       "    .dataframe thead th {\n",
       "        text-align: right;\n",
       "    }\n",
       "</style>\n",
       "<table border=\"1\" class=\"dataframe\">\n",
       "  <thead>\n",
       "    <tr style=\"text-align: right;\">\n",
       "      <th></th>\n",
       "      <th>image</th>\n",
       "      <th>type</th>\n",
       "      <th>label</th>\n",
       "    </tr>\n",
       "  </thead>\n",
       "  <tbody>\n",
       "    <tr>\n",
       "      <td>0</td>\n",
       "      <td>..\\data\\chest_xray\\train\\NORMAL\\IM-0115-0001.jpeg</td>\n",
       "      <td>train</td>\n",
       "      <td>0</td>\n",
       "    </tr>\n",
       "    <tr>\n",
       "      <td>1</td>\n",
       "      <td>..\\data\\chest_xray\\train\\NORMAL\\IM-0117-0001.jpeg</td>\n",
       "      <td>train</td>\n",
       "      <td>0</td>\n",
       "    </tr>\n",
       "    <tr>\n",
       "      <td>2</td>\n",
       "      <td>..\\data\\chest_xray\\train\\NORMAL\\IM-0119-0001.jpeg</td>\n",
       "      <td>train</td>\n",
       "      <td>0</td>\n",
       "    </tr>\n",
       "    <tr>\n",
       "      <td>3</td>\n",
       "      <td>..\\data\\chest_xray\\train\\NORMAL\\IM-0122-0001.jpeg</td>\n",
       "      <td>train</td>\n",
       "      <td>0</td>\n",
       "    </tr>\n",
       "    <tr>\n",
       "      <td>4</td>\n",
       "      <td>..\\data\\chest_xray\\train\\NORMAL\\IM-0125-0001.jpeg</td>\n",
       "      <td>train</td>\n",
       "      <td>0</td>\n",
       "    </tr>\n",
       "    <tr>\n",
       "      <td>...</td>\n",
       "      <td>...</td>\n",
       "      <td>...</td>\n",
       "      <td>...</td>\n",
       "    </tr>\n",
       "    <tr>\n",
       "      <td>5851</td>\n",
       "      <td>..\\data\\chest_xray\\val\\PNEUMONIA\\person1949_ba...</td>\n",
       "      <td>val</td>\n",
       "      <td>1</td>\n",
       "    </tr>\n",
       "    <tr>\n",
       "      <td>5852</td>\n",
       "      <td>..\\data\\chest_xray\\val\\PNEUMONIA\\person1950_ba...</td>\n",
       "      <td>val</td>\n",
       "      <td>1</td>\n",
       "    </tr>\n",
       "    <tr>\n",
       "      <td>5853</td>\n",
       "      <td>..\\data\\chest_xray\\val\\PNEUMONIA\\person1951_ba...</td>\n",
       "      <td>val</td>\n",
       "      <td>1</td>\n",
       "    </tr>\n",
       "    <tr>\n",
       "      <td>5854</td>\n",
       "      <td>..\\data\\chest_xray\\val\\PNEUMONIA\\person1952_ba...</td>\n",
       "      <td>val</td>\n",
       "      <td>1</td>\n",
       "    </tr>\n",
       "    <tr>\n",
       "      <td>5855</td>\n",
       "      <td>..\\data\\chest_xray\\val\\PNEUMONIA\\person1954_ba...</td>\n",
       "      <td>val</td>\n",
       "      <td>1</td>\n",
       "    </tr>\n",
       "  </tbody>\n",
       "</table>\n",
       "<p>5856 rows × 3 columns</p>\n",
       "</div>"
      ],
      "text/plain": [
       "                                                  image   type  label\n",
       "0     ..\\data\\chest_xray\\train\\NORMAL\\IM-0115-0001.jpeg  train      0\n",
       "1     ..\\data\\chest_xray\\train\\NORMAL\\IM-0117-0001.jpeg  train      0\n",
       "2     ..\\data\\chest_xray\\train\\NORMAL\\IM-0119-0001.jpeg  train      0\n",
       "3     ..\\data\\chest_xray\\train\\NORMAL\\IM-0122-0001.jpeg  train      0\n",
       "4     ..\\data\\chest_xray\\train\\NORMAL\\IM-0125-0001.jpeg  train      0\n",
       "...                                                 ...    ...    ...\n",
       "5851  ..\\data\\chest_xray\\val\\PNEUMONIA\\person1949_ba...    val      1\n",
       "5852  ..\\data\\chest_xray\\val\\PNEUMONIA\\person1950_ba...    val      1\n",
       "5853  ..\\data\\chest_xray\\val\\PNEUMONIA\\person1951_ba...    val      1\n",
       "5854  ..\\data\\chest_xray\\val\\PNEUMONIA\\person1952_ba...    val      1\n",
       "5855  ..\\data\\chest_xray\\val\\PNEUMONIA\\person1954_ba...    val      1\n",
       "\n",
       "[5856 rows x 3 columns]"
      ]
     },
     "execution_count": 67,
     "metadata": {},
     "output_type": "execute_result"
    }
   ],
   "source": [
    "# Path to data folder\n",
    "data_folder = Path(\"../data/chest_xray\")\n",
    "\n",
    "# Paths to the train, test and validation folders\n",
    "train_folder = data_folder / \"train\"\n",
    "test_folder = data_folder / \"test\"\n",
    "val_folder = data_folder / \"val\"\n",
    "\n",
    "folder_list = [train_folder, test_folder, val_folder]\n",
    "\n",
    "# names of the folders\n",
    "normal_sufix = \"NORMAL\"\n",
    "pneu_sufix = \"PNEUMONIA\"\n",
    "columns = ['image','type', 'label']\n",
    "types = ['train', 'test', 'val']\n",
    "labels = [0, 1]\n",
    "labels = np.array([np.repeat(x, len(types)) for x in labels]).flatten()\n",
    "\n",
    "normal_folder_list = [x / normal_sufix for x in folder_list]\n",
    "pneu_folder_list = [x / pneu_sufix for x in folder_list]\n",
    "folders = normal_folder_list + pneu_folder_list\n",
    "\n",
    "list_dataframes = []\n",
    "for folder, tipo, label in zip(folders, cycle(types), labels):\n",
    "    data = folder.glob(\"*.jpeg\")\n",
    "    data_list = []\n",
    "    for img in data:\n",
    "        data_list.append((img,tipo,label))\n",
    "    df = pd.DataFrame(data_list, columns = columns, index=None )\n",
    "    list_dataframes.append(df)\n",
    "    \n",
    "combined_df = pd.concat(list_dataframes, ignore_index=True)\n",
    "combined_df"
   ]
  },
  {
   "cell_type": "code",
   "execution_count": 72,
   "metadata": {},
   "outputs": [
    {
     "data": {
      "text/html": [
       "<div>\n",
       "<style scoped>\n",
       "    .dataframe tbody tr th:only-of-type {\n",
       "        vertical-align: middle;\n",
       "    }\n",
       "\n",
       "    .dataframe tbody tr th {\n",
       "        vertical-align: top;\n",
       "    }\n",
       "\n",
       "    .dataframe thead th {\n",
       "        text-align: right;\n",
       "    }\n",
       "</style>\n",
       "<table border=\"1\" class=\"dataframe\">\n",
       "  <thead>\n",
       "    <tr style=\"text-align: right;\">\n",
       "      <th></th>\n",
       "      <th>image</th>\n",
       "      <th>label</th>\n",
       "    </tr>\n",
       "    <tr>\n",
       "      <th>type</th>\n",
       "      <th></th>\n",
       "      <th></th>\n",
       "    </tr>\n",
       "  </thead>\n",
       "  <tbody>\n",
       "    <tr>\n",
       "      <td>test</td>\n",
       "      <td>624</td>\n",
       "      <td>624</td>\n",
       "    </tr>\n",
       "    <tr>\n",
       "      <td>train</td>\n",
       "      <td>5216</td>\n",
       "      <td>5216</td>\n",
       "    </tr>\n",
       "    <tr>\n",
       "      <td>val</td>\n",
       "      <td>16</td>\n",
       "      <td>16</td>\n",
       "    </tr>\n",
       "  </tbody>\n",
       "</table>\n",
       "</div>"
      ],
      "text/plain": [
       "       image  label\n",
       "type               \n",
       "test     624    624\n",
       "train   5216   5216\n",
       "val       16     16"
      ]
     },
     "execution_count": 72,
     "metadata": {},
     "output_type": "execute_result"
    }
   ],
   "source": [
    "combined_df.groupby(['type']).count()"
   ]
  },
  {
   "cell_type": "code",
   "execution_count": 65,
   "metadata": {},
   "outputs": [],
   "source": [
    "train_data = combined_df[combined_df['type'] == 'train']"
   ]
  },
  {
   "cell_type": "code",
   "execution_count": 66,
   "metadata": {},
   "outputs": [
    {
     "name": "stdout",
     "output_type": "stream",
     "text": [
      "Total:  5216\n",
      "case\tamount\n",
      " 1    3875\n",
      "0    1341\n",
      "Name: label, dtype: int64\n"
     ]
    },
    {
     "data": {
      "image/png": "[encoded data removed]",
      "text/plain": [
       "<Figure size 864x720 with 1 Axes>"
      ]
     },
     "metadata": {
      "needs_background": "light"
     },
     "output_type": "display_data"
    }
   ],
   "source": [
    "# Get the counts for each class\n",
    "cases_count = train_data['label'].value_counts() # value_counts returns pandas Series with the amount of time a unique value appears int the Series called\n",
    "print(\"Total: \", len(train_data))\n",
    "print(\"case\\tamount\\n\", cases_count)\n",
    "\n",
    "# Plot the results \n",
    "plt.figure(figsize=(12,10)) # Create a plt figure of the specified size\n",
    "barlist = plt.bar(cases_count.index, cases_count.values) # Create a bar graph\n",
    "barlist[0].set_color('r') # set_color() in a barlist[i] changes the color \n",
    "plt.title('Number of cases', fontsize=14)\n",
    "plt.xlabel('Case type', fontsize=12)\n",
    "plt.ylabel('Count', fontsize=12)\n",
    "plt.xticks(range(len(cases_count.index)), ['Normal(0)', 'Pneumonia(1)']) # X axis range and labels shown\n",
    "plt.show()"
   ]
  },
  {
   "cell_type": "code",
   "execution_count": 59,
   "metadata": {},
   "outputs": [
    {
     "name": "stdout",
     "output_type": "stream",
     "text": [
      "..\\data\\chest_xray\\train\\NORMAL - train - 0\n",
      "..\\data\\chest_xray\\test\\NORMAL - test - 0\n",
      "..\\data\\chest_xray\\val\\NORMAL - val - 0\n",
      "..\\data\\chest_xray\\train\\PNEUMONIA - train - 1\n",
      "..\\data\\chest_xray\\test\\PNEUMONIA - test - 1\n",
      "..\\data\\chest_xray\\val\\PNEUMONIA - val - 1\n"
     ]
    }
   ],
   "source": [
    "from itertools import cycle\n",
    "\n",
    "folders = list(map(str,normal_folder_list + pneu_folder_list))\n",
    "types = ['train', 'test', 'val']\n",
    "labels = [0, 1]\n",
    "\n",
    "labels = np.array([np.repeat(x, len(types)) for x in labels]).flatten()\n",
    "\n",
    "for folder, tipo, label in zip(folders, cycle(types), labels):\n",
    "    print(\"{} - {} - {}\".format(folder, tipo, label))"
   ]
  },
  {
   "cell_type": "code",
   "execution_count": 63,
   "metadata": {},
   "outputs": [
    {
     "data": {
      "text/plain": [
       "[WindowsPath('../data/chest_xray/train/NORMAL'),\n",
       " WindowsPath('../data/chest_xray/test/NORMAL'),\n",
       " WindowsPath('../data/chest_xray/val/NORMAL'),\n",
       " WindowsPath('../data/chest_xray/train/PNEUMONIA'),\n",
       " WindowsPath('../data/chest_xray/test/PNEUMONIA'),\n",
       " WindowsPath('../data/chest_xray/val/PNEUMONIA')]"
      ]
     },
     "execution_count": 63,
     "metadata": {},
     "output_type": "execute_result"
    }
   ],
   "source": [
    "folders = normal_folder_list + pneu_folder_list\n",
    "folders"
   ]
  },
  {
   "cell_type": "code",
   "execution_count": null,
   "metadata": {},
   "outputs": [],
   "source": []
  }
 ],
 "metadata": {
  "kernelspec": {
   "display_name": "Python 3",
   "language": "python",
   "name": "python3"
  },
  "language_info": {
   "codemirror_mode": {
    "name": "ipython",
    "version": 3
   },
   "file_extension": ".py",
   "mimetype": "text/x-python",
   "name": "python",
   "nbconvert_exporter": "python",
   "pygments_lexer": "ipython3",
   "version": "3.7.4"
  }
 },
 "nbformat": 4,
 "nbformat_minor": 2
}
